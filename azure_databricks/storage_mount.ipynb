{
 "cells": [
  {
   "cell_type": "code",
   "execution_count": 0,
   "metadata": {
    "application/vnd.databricks.v1+cell": {
     "cellMetadata": {
      "byteLimit": 2048000,
      "rowLimit": 10000
     },
     "inputWidgets": {},
     "nuid": "75a0220a-64b9-4985-a2c7-e1e19ec4906a",
     "showTitle": false,
     "tableResultSettingsMap": {},
     "title": ""
    }
   },
   "outputs": [
    {
     "output_type": "execute_result",
     "data": {
      "text/plain": [
       "True"
      ]
     },
     "execution_count": 1,
     "metadata": {},
     "output_type": "execute_result"
    }
   ],
   "source": [
    "# Databricks notebook source\n",
    "configs = {\n",
    "  \"fs.azure.account.auth.type\": \"CustomAccessToken\",\n",
    "  \"fs.azure.account.custom.token.provider.class\": spark.conf.get(\"spark.databricks.passthrough.adls.gen2.tokenProviderClassName\")\n",
    "}\n",
    "\n",
    "# Optionally, you can add <directory-name> to the source URI of your mount point.\n",
    "dbutils.fs.mount(\n",
    "  source = \"abfss://bronze@adlsgen2demoalrp.dfs.core.windows.net/\",\n",
    "  mount_point = \"/mnt/bronze\",\n",
    "  extra_configs = configs)"
   ]
  },
  {
   "cell_type": "code",
   "execution_count": 0,
   "metadata": {
    "application/vnd.databricks.v1+cell": {
     "cellMetadata": {
      "byteLimit": 2048000,
      "rowLimit": 10000
     },
     "inputWidgets": {},
     "nuid": "5980904d-9020-4d37-a47d-fb1de27ca46f",
     "showTitle": false,
     "tableResultSettingsMap": {},
     "title": ""
    }
   },
   "outputs": [
    {
     "output_type": "execute_result",
     "data": {
      "text/plain": [
       "[FileInfo(path='dbfs:/mnt/bronze/Sales/CountryRegionCurrency/', name='CountryRegionCurrency/', size=0, modificationTime=1737926626000),\n",
       " FileInfo(path='dbfs:/mnt/bronze/Sales/CreditCard/', name='CreditCard/', size=0, modificationTime=1737926623000),\n",
       " FileInfo(path='dbfs:/mnt/bronze/Sales/Currency/', name='Currency/', size=0, modificationTime=1737926630000),\n",
       " FileInfo(path='dbfs:/mnt/bronze/Sales/CurrencyRate/', name='CurrencyRate/', size=0, modificationTime=1737926615000),\n",
       " FileInfo(path='dbfs:/mnt/bronze/Sales/Customer/', name='Customer/', size=0, modificationTime=1737926621000),\n",
       " FileInfo(path='dbfs:/mnt/bronze/Sales/PersonCreditCard/', name='PersonCreditCard/', size=0, modificationTime=1737926614000),\n",
       " FileInfo(path='dbfs:/mnt/bronze/Sales/SalesOrderDetail/', name='SalesOrderDetail/', size=0, modificationTime=1737926618000),\n",
       " FileInfo(path='dbfs:/mnt/bronze/Sales/SalesOrderHeader/', name='SalesOrderHeader/', size=0, modificationTime=1737926614000),\n",
       " FileInfo(path='dbfs:/mnt/bronze/Sales/SalesOrderHeaderSalesReason/', name='SalesOrderHeaderSalesReason/', size=0, modificationTime=1737926613000),\n",
       " FileInfo(path='dbfs:/mnt/bronze/Sales/SalesPerson/', name='SalesPerson/', size=0, modificationTime=1737926620000),\n",
       " FileInfo(path='dbfs:/mnt/bronze/Sales/SalesPersonQuotaHistory/', name='SalesPersonQuotaHistory/', size=0, modificationTime=1737926623000),\n",
       " FileInfo(path='dbfs:/mnt/bronze/Sales/SalesReason/', name='SalesReason/', size=0, modificationTime=1737926620000),\n",
       " FileInfo(path='dbfs:/mnt/bronze/Sales/SalesTaxRate/', name='SalesTaxRate/', size=0, modificationTime=1737926614000),\n",
       " FileInfo(path='dbfs:/mnt/bronze/Sales/SalesTerritory/', name='SalesTerritory/', size=0, modificationTime=1737926617000),\n",
       " FileInfo(path='dbfs:/mnt/bronze/Sales/SalesTerritoryHistory/', name='SalesTerritoryHistory/', size=0, modificationTime=1737926625000),\n",
       " FileInfo(path='dbfs:/mnt/bronze/Sales/ShoppingCartItem/', name='ShoppingCartItem/', size=0, modificationTime=1737926611000),\n",
       " FileInfo(path='dbfs:/mnt/bronze/Sales/SpecialOffer/', name='SpecialOffer/', size=0, modificationTime=1737926624000),\n",
       " FileInfo(path='dbfs:/mnt/bronze/Sales/SpecialOfferProduct/', name='SpecialOfferProduct/', size=0, modificationTime=1737926613000),\n",
       " FileInfo(path='dbfs:/mnt/bronze/Sales/Store/', name='Store/', size=0, modificationTime=1737926612000)]"
      ]
     },
     "execution_count": 3,
     "metadata": {},
     "output_type": "execute_result"
    }
   ],
   "source": [
    "dbutils.fs.ls(\"/mnt/bronze/Sales\")"
   ]
  },
  {
   "cell_type": "code",
   "execution_count": 0,
   "metadata": {
    "application/vnd.databricks.v1+cell": {
     "cellMetadata": {
      "byteLimit": 2048000,
      "rowLimit": 10000
     },
     "inputWidgets": {},
     "nuid": "75b787e4-b83e-44a9-b748-426cfd9f30cd",
     "showTitle": false,
     "tableResultSettingsMap": {},
     "title": ""
    }
   },
   "outputs": [
    {
     "output_type": "execute_result",
     "data": {
      "text/plain": [
       "True"
      ]
     },
     "execution_count": 5,
     "metadata": {},
     "output_type": "execute_result"
    }
   ],
   "source": [
    "# Databricks notebook source\n",
    "configs = {\n",
    "  \"fs.azure.account.auth.type\": \"CustomAccessToken\",\n",
    "  \"fs.azure.account.custom.token.provider.class\": spark.conf.get(\"spark.databricks.passthrough.adls.gen2.tokenProviderClassName\")\n",
    "}\n",
    "\n",
    "# Silver\n",
    "dbutils.fs.mount(\n",
    "  source = \"abfss://silver@adlsgen2demoalrp.dfs.core.windows.net/\",\n",
    "  mount_point = \"/mnt/silver\",\n",
    "  extra_configs = configs)"
   ]
  },
  {
   "cell_type": "code",
   "execution_count": 0,
   "metadata": {
    "application/vnd.databricks.v1+cell": {
     "cellMetadata": {
      "byteLimit": 2048000,
      "rowLimit": 10000
     },
     "inputWidgets": {},
     "nuid": "45febfa1-c6f3-4ac6-a1f5-3467d1be18c4",
     "showTitle": false,
     "tableResultSettingsMap": {},
     "title": ""
    }
   },
   "outputs": [
    {
     "output_type": "execute_result",
     "data": {
      "text/plain": [
       "True"
      ]
     },
     "execution_count": 6,
     "metadata": {},
     "output_type": "execute_result"
    }
   ],
   "source": [
    "# Databricks notebook source\n",
    "configs = {\n",
    "  \"fs.azure.account.auth.type\": \"CustomAccessToken\",\n",
    "  \"fs.azure.account.custom.token.provider.class\": spark.conf.get(\"spark.databricks.passthrough.adls.gen2.tokenProviderClassName\")\n",
    "}\n",
    "\n",
    "# Silver\n",
    "dbutils.fs.mount(\n",
    "  source = \"abfss://gold@adlsgen2demoalrp.dfs.core.windows.net/\",\n",
    "  mount_point = \"/mnt/gold\",\n",
    "  extra_configs = configs)"
   ]
  }
 ],
 "metadata": {
  "application/vnd.databricks.v1+notebook": {
   "computePreferences": null,
   "dashboards": [],
   "environmentMetadata": {
    "base_environment": "",
    "client": "1"
   },
   "language": "python",
   "notebookMetadata": {
    "pythonIndentUnit": 4
   },
   "notebookName": "storage_mount",
   "widgets": {}
  },
  "language_info": {
   "name": "python"
  }
 },
 "nbformat": 4,
 "nbformat_minor": 0
}